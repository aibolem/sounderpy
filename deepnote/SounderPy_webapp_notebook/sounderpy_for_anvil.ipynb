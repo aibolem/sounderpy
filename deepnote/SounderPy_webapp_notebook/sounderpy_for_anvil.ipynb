{
  "cells": [
    {
      "cell_type": "code",
      "source": "!pip install sounderpy\n!pip install anvil-uplink",
      "metadata": {
        "source_hash": "fb33a77c",
        "execution_start": 1704857505511,
        "execution_millis": 16349,
        "is_output_hidden": true,
        "deepnote_to_be_reexecuted": false,
        "deepnote_app_is_output_hidden": true,
        "cell_id": "018bc061d284444eb2ab880a0758b2ca",
        "deepnote_cell_type": "code"
      },
      "outputs": [
        {
          "name": "stdout",
          "text": "Collecting sounderpy\n  Downloading sounderpy-3.0.0-py3-none-any.whl (321 kB)\n\u001b[2K     \u001b[90m━━━━━━━━━━━━━━━━━━━━━━━━━━━━━━━━━━━━━━\u001b[0m \u001b[32m321.5/321.5 kB\u001b[0m \u001b[31m42.9 MB/s\u001b[0m eta \u001b[36m0:00:00\u001b[0m\n\u001b[?25hRequirement already satisfied: numpy>=1.20.0 in /shared-libs/python3.9/py/lib/python3.9/site-packages (from sounderpy) (1.23.4)\nCollecting ecape>=0.1.1\n  Downloading ecape-0.1.1-py3-none-any.whl (3.0 MB)\n\u001b[2K     \u001b[90m━━━━━━━━━━━━━━━━━━━━━━━━━━━━━━━━━━━━━━━━\u001b[0m \u001b[32m3.0/3.0 MB\u001b[0m \u001b[31m102.9 MB/s\u001b[0m eta \u001b[36m0:00:00\u001b[0m\n\u001b[?25hCollecting scipy>=1.10.1\n  Downloading scipy-1.11.4-cp39-cp39-manylinux_2_17_x86_64.manylinux2014_x86_64.whl (36.6 MB)\n\u001b[2K     \u001b[90m━━━━━━━━━━━━━━━━━━━━━━━━━━━━━━━━━━━━━━━━\u001b[0m \u001b[32m36.6/36.6 MB\u001b[0m \u001b[31m44.3 MB/s\u001b[0m eta \u001b[36m0:00:00\u001b[0m\n\u001b[?25hCollecting netcdf4>=1.6.4\n  Downloading netCDF4-1.6.5-cp39-cp39-manylinux_2_17_x86_64.manylinux2014_x86_64.whl (5.5 MB)\n\u001b[2K     \u001b[90m━━━━━━━━━━━━━━━━━━━━━━━━━━━━━━━━━━━━━━━━\u001b[0m \u001b[32m5.5/5.5 MB\u001b[0m \u001b[31m82.3 MB/s\u001b[0m eta \u001b[36m0:00:00\u001b[0m\n\u001b[?25hCollecting siphon>=0.9\n  Downloading siphon-0.9-py2.py3-none-any.whl (69 kB)\n\u001b[2K     \u001b[90m━━━━━━━━━━━━━━━━━━━━━━━━━━━━━━━━━━━━━━━━\u001b[0m \u001b[32m69.2/69.2 kB\u001b[0m \u001b[31m21.7 MB/s\u001b[0m eta \u001b[36m0:00:00\u001b[0m\n\u001b[?25hCollecting cdsapi>=0.6.1\n  Downloading cdsapi-0.6.1.tar.gz (13 kB)\n  Preparing metadata (setup.py) ... \u001b[?25ldone\n\u001b[?25hCollecting xarray>=0.18.0\n  Downloading xarray-2023.12.0-py3-none-any.whl (1.1 MB)\n\u001b[2K     \u001b[90m━━━━━━━━━━━━━━━━━━━━━━━━━━━━━━━━━━━━━━━━\u001b[0m \u001b[32m1.1/1.1 MB\u001b[0m \u001b[31m104.7 MB/s\u001b[0m eta \u001b[36m0:00:00\u001b[0m\n\u001b[?25hRequirement already satisfied: matplotlib<=3.7.1,>=3.3.0 in /shared-libs/python3.9/py/lib/python3.9/site-packages (from sounderpy) (3.6.0)\nRequirement already satisfied: pandas>=1.2.0 in /shared-libs/python3.9/py/lib/python3.9/site-packages (from sounderpy) (1.2.5)\nCollecting metpy>=1.5.1\n  Downloading MetPy-1.6.0-py3-none-any.whl (408 kB)\n\u001b[2K     \u001b[90m━━━━━━━━━━━━━━━━━━━━━━━━━━━━━━━━━━━━━━\u001b[0m \u001b[32m408.6/408.6 kB\u001b[0m \u001b[31m71.7 MB/s\u001b[0m eta \u001b[36m0:00:00\u001b[0m\n\u001b[?25hRequirement already satisfied: requests>=2.5.0 in /shared-libs/python3.9/py/lib/python3.9/site-packages (from cdsapi>=0.6.1->sounderpy) (2.28.1)\nRequirement already satisfied: tqdm in /shared-libs/python3.9/py/lib/python3.9/site-packages (from cdsapi>=0.6.1->sounderpy) (4.64.1)\nCollecting pytest\n  Downloading pytest-7.4.4-py3-none-any.whl (325 kB)\n\u001b[2K     \u001b[90m━━━━━━━━━━━━━━━━━━━━━━━━━━━━━━━━━━━━━━\u001b[0m \u001b[32m325.3/325.3 kB\u001b[0m \u001b[31m59.5 MB/s\u001b[0m eta \u001b[36m0:00:00\u001b[0m\n\u001b[?25hRequirement already satisfied: kiwisolver>=1.0.1 in /shared-libs/python3.9/py/lib/python3.9/site-packages (from matplotlib<=3.7.1,>=3.3.0->sounderpy) (1.4.4)\nRequirement already satisfied: packaging>=20.0 in /shared-libs/python3.9/py-core/lib/python3.9/site-packages (from matplotlib<=3.7.1,>=3.3.0->sounderpy) (21.3)\nRequirement already satisfied: pillow>=6.2.0 in /shared-libs/python3.9/py/lib/python3.9/site-packages (from matplotlib<=3.7.1,>=3.3.0->sounderpy) (9.2.0)\nRequirement already satisfied: contourpy>=1.0.1 in /shared-libs/python3.9/py/lib/python3.9/site-packages (from matplotlib<=3.7.1,>=3.3.0->sounderpy) (1.0.5)\nRequirement already satisfied: fonttools>=4.22.0 in /shared-libs/python3.9/py/lib/python3.9/site-packages (from matplotlib<=3.7.1,>=3.3.0->sounderpy) (4.37.4)\nRequirement already satisfied: cycler>=0.10 in /shared-libs/python3.9/py/lib/python3.9/site-packages (from matplotlib<=3.7.1,>=3.3.0->sounderpy) (0.11.0)\nRequirement already satisfied: python-dateutil>=2.7 in /shared-libs/python3.9/py-core/lib/python3.9/site-packages (from matplotlib<=3.7.1,>=3.3.0->sounderpy) (2.8.2)\nRequirement already satisfied: pyparsing>=2.2.1 in /shared-libs/python3.9/py-core/lib/python3.9/site-packages (from matplotlib<=3.7.1,>=3.3.0->sounderpy) (3.0.9)\nCollecting pint>=0.17\n  Downloading Pint-0.23-py3-none-any.whl (305 kB)\n\u001b[2K     \u001b[90m━━━━━━━━━━━━━━━━━━━━━━━━━━━━━━━━━━━━━━\u001b[0m \u001b[32m305.0/305.0 kB\u001b[0m \u001b[31m64.7 MB/s\u001b[0m eta \u001b[36m0:00:00\u001b[0m\n\u001b[?25hCollecting pooch>=1.2.0\n  Downloading pooch-1.8.0-py3-none-any.whl (62 kB)\n\u001b[2K     \u001b[90m━━━━━━━━━━━━━━━━━━━━━━━━━━━━━━━━━━━━━━━━\u001b[0m \u001b[32m62.7/62.7 kB\u001b[0m \u001b[31m19.2 MB/s\u001b[0m eta \u001b[36m0:00:00\u001b[0m\n\u001b[?25hCollecting pandas>=1.2.0\n  Downloading pandas-2.1.4-cp39-cp39-manylinux_2_17_x86_64.manylinux2014_x86_64.whl (12.3 MB)\n\u001b[2K     \u001b[90m━━━━━━━━━━━━━━━━━━━━━━━━━━━━━━━━━━━━━━━━\u001b[0m \u001b[32m12.3/12.3 MB\u001b[0m \u001b[31m82.6 MB/s\u001b[0m eta \u001b[36m0:00:00\u001b[0m\n\u001b[?25hRequirement already satisfied: pyproj>=3.0.0 in /shared-libs/python3.9/py/lib/python3.9/site-packages (from metpy>=1.5.1->sounderpy) (3.4.0)\nRequirement already satisfied: traitlets>=5.0.5 in /shared-libs/python3.9/py-core/lib/python3.9/site-packages (from metpy>=1.5.1->sounderpy) (5.5.0)\nCollecting cftime\n  Downloading cftime-1.6.3-cp39-cp39-manylinux_2_17_x86_64.manylinux2014_x86_64.whl (1.3 MB)\n\u001b[2K     \u001b[90m━━━━━━━━━━━━━━━━━━━━━━━━━━━━━━━━━━━━━━━━\u001b[0m \u001b[32m1.3/1.3 MB\u001b[0m \u001b[31m117.1 MB/s\u001b[0m eta \u001b[36m0:00:00\u001b[0m\n\u001b[?25hRequirement already satisfied: certifi in /shared-libs/python3.9/py/lib/python3.9/site-packages (from netcdf4>=1.6.4->sounderpy) (2022.9.24)\nRequirement already satisfied: tzdata>=2022.1 in /shared-libs/python3.9/py/lib/python3.9/site-packages (from pandas>=1.2.0->sounderpy) (2022.5)\nRequirement already satisfied: pytz>=2020.1 in /shared-libs/python3.9/py/lib/python3.9/site-packages (from pandas>=1.2.0->sounderpy) (2022.5)\nRequirement already satisfied: beautifulsoup4>=4.6 in /shared-libs/python3.9/py-core/lib/python3.9/site-packages (from siphon>=0.9->sounderpy) (4.11.1)\nRequirement already satisfied: protobuf>=3.0.0a3 in /shared-libs/python3.9/py/lib/python3.9/site-packages (from siphon>=0.9->sounderpy) (3.19.6)\nRequirement already satisfied: soupsieve>1.2 in /shared-libs/python3.9/py-core/lib/python3.9/site-packages (from beautifulsoup4>=4.6->siphon>=0.9->sounderpy) (2.3.2.post1)\nRequirement already satisfied: typing-extensions in /shared-libs/python3.9/py/lib/python3.9/site-packages (from pint>=0.17->metpy>=1.5.1->sounderpy) (4.4.0)\nCollecting platformdirs>=2.5.0\n  Downloading platformdirs-4.1.0-py3-none-any.whl (17 kB)\nRequirement already satisfied: six>=1.5 in /shared-libs/python3.9/py-core/lib/python3.9/site-packages (from python-dateutil>=2.7->matplotlib<=3.7.1,>=3.3.0->sounderpy) (1.16.0)\nRequirement already satisfied: charset-normalizer<3,>=2 in /shared-libs/python3.9/py-core/lib/python3.9/site-packages (from requests>=2.5.0->cdsapi>=0.6.1->sounderpy) (2.1.1)\nRequirement already satisfied: urllib3<1.27,>=1.21.1 in /shared-libs/python3.9/py/lib/python3.9/site-packages (from requests>=2.5.0->cdsapi>=0.6.1->sounderpy) (1.26.12)\nRequirement already satisfied: idna<4,>=2.5 in /shared-libs/python3.9/py-core/lib/python3.9/site-packages (from requests>=2.5.0->cdsapi>=0.6.1->sounderpy) (3.4)\nCollecting tomli>=1.0.0\n  Downloading tomli-2.0.1-py3-none-any.whl (12 kB)\nCollecting iniconfig\n  Downloading iniconfig-2.0.0-py3-none-any.whl (5.9 kB)\nRequirement already satisfied: pluggy<2.0,>=0.12 in /shared-libs/python3.9/py-core/lib/python3.9/site-packages (from pytest->ecape>=0.1.1->sounderpy) (1.0.0)\nCollecting exceptiongroup>=1.0.0rc8\n  Downloading exceptiongroup-1.2.0-py3-none-any.whl (16 kB)\nBuilding wheels for collected packages: cdsapi\n  Building wheel for cdsapi (setup.py) ... \u001b[?25ldone\n\u001b[?25h  Created wheel for cdsapi: filename=cdsapi-0.6.1-py2.py3-none-any.whl size=12020 sha256=490f8cf02ee3062de74344f8592579efff7d7d814cac5a41be81e4be21a45e02\n  Stored in directory: /root/.cache/pip/wheels/4d/b6/82/16fe50c5ba1bc796d79375fabe24c0a5f99340d50fea2bc4bb\nSuccessfully built cdsapi\nInstalling collected packages: tomli, scipy, platformdirs, pint, iniconfig, exceptiongroup, cftime, pytest, pooch, pandas, netcdf4, cdsapi, xarray, siphon, metpy, ecape, sounderpy\n  Attempting uninstall: scipy\n    Found existing installation: scipy 1.9.3\n    Not uninstalling scipy at /shared-libs/python3.9/py/lib/python3.9/site-packages, outside environment /root/venv\n    Can't uninstall 'scipy'. No files were found to uninstall.\n  Attempting uninstall: pandas\n    Found existing installation: pandas 1.2.5\n    Not uninstalling pandas at /shared-libs/python3.9/py/lib/python3.9/site-packages, outside environment /root/venv\n    Can't uninstall 'pandas'. No files were found to uninstall.\nSuccessfully installed cdsapi-0.6.1 cftime-1.6.3 ecape-0.1.1 exceptiongroup-1.2.0 iniconfig-2.0.0 metpy-1.6.0 netcdf4-1.6.5 pandas-2.1.4 pint-0.23 platformdirs-4.1.0 pooch-1.8.0 pytest-7.4.4 scipy-1.11.4 siphon-0.9 sounderpy-3.0.0 tomli-2.0.1 xarray-2023.12.0\n\n\u001b[1m[\u001b[0m\u001b[34;49mnotice\u001b[0m\u001b[1;39;49m]\u001b[0m\u001b[39;49m A new release of pip is available: \u001b[0m\u001b[31;49m23.0.1\u001b[0m\u001b[39;49m -> \u001b[0m\u001b[32;49m23.3.2\u001b[0m\n\u001b[1m[\u001b[0m\u001b[34;49mnotice\u001b[0m\u001b[1;39;49m]\u001b[0m\u001b[39;49m To update, run: \u001b[0m\u001b[32;49mpip install --upgrade pip\u001b[0m\nCollecting anvil-uplink\n  Downloading anvil_uplink-0.4.2-py2.py3-none-any.whl (90 kB)\n\u001b[2K     \u001b[90m━━━━━━━━━━━━━━━━━━━━━━━━━━━━━━━━━━━━━━━━\u001b[0m \u001b[32m90.1/90.1 kB\u001b[0m \u001b[31m22.5 MB/s\u001b[0m eta \u001b[36m0:00:00\u001b[0m\n\u001b[?25hCollecting ws4py\n  Downloading ws4py-0.5.1.tar.gz (51 kB)\n\u001b[2K     \u001b[90m━━━━━━━━━━━━━━━━━━━━━━━━━━━━━━━━━━━━━━━━\u001b[0m \u001b[32m51.4/51.4 kB\u001b[0m \u001b[31m15.7 MB/s\u001b[0m eta \u001b[36m0:00:00\u001b[0m\n\u001b[?25h  Preparing metadata (setup.py) ... \u001b[?25ldone\n\u001b[?25hCollecting argparse\n  Downloading argparse-1.4.0-py2.py3-none-any.whl (23 kB)\nRequirement already satisfied: six in /shared-libs/python3.9/py-core/lib/python3.9/site-packages (from anvil-uplink) (1.16.0)\nRequirement already satisfied: future in /shared-libs/python3.9/py/lib/python3.9/site-packages (from anvil-uplink) (0.18.2)\nBuilding wheels for collected packages: ws4py\n  Building wheel for ws4py (setup.py) ... \u001b[?25ldone\n\u001b[?25h  Created wheel for ws4py: filename=ws4py-0.5.1-py3-none-any.whl size=45229 sha256=9b8e3b79d2f5c2daa472428f164837e1a65197e23805028665469dd13fd0b594\n  Stored in directory: /root/.cache/pip/wheels/e8/9d/fd/0a594a1bc8d493935d319ac40d64d79f5b4117ef4d37b1b678\nSuccessfully built ws4py\nInstalling collected packages: ws4py, argparse, anvil-uplink\nSuccessfully installed anvil-uplink-0.4.2 argparse-1.4.0 ws4py-0.5.1\n\n\u001b[1m[\u001b[0m\u001b[34;49mnotice\u001b[0m\u001b[1;39;49m]\u001b[0m\u001b[39;49m A new release of pip is available: \u001b[0m\u001b[31;49m23.0.1\u001b[0m\u001b[39;49m -> \u001b[0m\u001b[32;49m23.3.2\u001b[0m\n\u001b[1m[\u001b[0m\u001b[34;49mnotice\u001b[0m\u001b[1;39;49m]\u001b[0m\u001b[39;49m To update, run: \u001b[0m\u001b[32;49mpip install --upgrade pip\u001b[0m\n",
          "output_type": "stream"
        }
      ],
      "execution_count": 2,
      "block_group": "018bc061d284444eb2ab880a0758b2ca"
    },
    {
      "cell_type": "code",
      "source": "import sounderpy as spy\nimport anvil.server\nimport anvil.media",
      "metadata": {
        "source_hash": "ab2bb5f",
        "execution_start": 1704857532289,
        "execution_millis": 1821,
        "deepnote_to_be_reexecuted": false,
        "cell_id": "9b4b122ddad34686a96752411e9f5e43",
        "deepnote_cell_type": "code"
      },
      "outputs": [
        {
          "name": "stdout",
          "text": "\n## ---------------------------------- SOUNDERPY ----------------------------------- ##\n##          Vertical Profile Data Retrieval and Analysis Tool For Python            ##\n##                    v3.0.0 | Jan. 2024 | (C) Kyle J Gillett                       ##\n##                 Docs: https://kylejgillett.github.io/sounderpy/                  ##\n## -------------------- THANK YOU FOR USING THIS PACKAGE! ------------------------- ##\n\n",
          "output_type": "stream"
        }
      ],
      "execution_count": 3,
      "block_group": "2ad68fa76c744646ba5f3692b9490024"
    },
    {
      "cell_type": "code",
      "source": "anvil.server.connect(\"server_EDDTRS3IFRKPVTGKNX7ACBPL-QFKQK4H3HOLDEVKR\")\n\n#anvil.server.wait_forever()",
      "metadata": {
        "source_hash": "c40b4268",
        "execution_start": 1704857536388,
        "execution_millis": 856,
        "deepnote_to_be_reexecuted": false,
        "cell_id": "1bea0c88778349a19002421b62eedd0e",
        "deepnote_cell_type": "code"
      },
      "outputs": [
        {
          "name": "stdout",
          "text": "Connecting to wss://anvil.works/uplink\nAnvil websocket open\nConnected to \"SounderPy\" as SERVER\n",
          "output_type": "stream"
        }
      ],
      "execution_count": 4,
      "block_group": "476459f55e0d46c8a1f997490774c06e"
    },
    {
      "cell_type": "code",
      "source": "@anvil.server.callable\ndef get_obs_sounding(site_id, year, month, day, hour, color_blind, dark_mode):\n\n    clean_data = spy.get_obs_data(str(site_id), str(year), str(month), str(day), str(hour))\n\n    label_txt = f\"{clean_data['site_info']['valid-time'][3]}Z Launch for {clean_data['site_info']['site-id']}, {clean_data['site_info']['site-name']} at {clean_data['site_info']['valid-time'][1]}-{clean_data['site_info']['valid-time'][2]}-{clean_data['site_info']['valid-time'][0]}-{clean_data['site_info']['valid-time'][3]}Z\"\n    spy.build_sounding(clean_data, dark_mode=dark_mode, color_blind=color_blind, save=True)\n\n    return anvil.media.from_file('sounderpy_sounding.png', 'image/jpeg'), label_txt\n\n\n\n\n\n@anvil.server.callable\ndef get_acars_profile_list(year, month, day, hour, ):\n\n    profiles_list = spy.acars_data(str(year), str(month), str(day), str(hour)).list_profiles()\n\n    return profiles_list\n\n\n@anvil.server.callable\ndef get_acars_sounding(profile_id, year, month, day, hour, color_blind, dark_mode):\n    \n    clean_data = spy.acars_data(str(year), str(month), str(day), str(hour)).get_profile(profile_id)\n\n    label_txt = f\"{clean_data['site_info']['valid-time'][3]}Z Launch for {clean_data['site_info']['site-id']}, {clean_data['site_info']['site-name']} at {clean_data['site_info']['valid-time'][1]}-{clean_data['site_info']['valid-time'][2]}-{clean_data['site_info']['valid-time'][0]}-{clean_data['site_info']['valid-time'][3]}Z\"\n    \n    spy.build_sounding(clean_data, dark_mode=dark_mode, color_blind=color_blind, save=True)\n\n    return anvil.media.from_file('sounderpy_sounding.png', 'image/jpeg'), label_txt\n\n\n\n@anvil.server.callable\ndef get_bufkit_sounding(model, bufkit_site, fcst_hr, color_blind, dark_mode):\n    \n    clean_data = spy.get_bufkit_data(str(model), str(bufkit_site), int(fcst_hr))\n\n    label_txt = f\"{clean_data['site_info']['valid-time'][3]}Z Launch for {clean_data['site_info']['site-id']}, {clean_data['site_info']['site-name']} at {clean_data['site_info']['valid-time'][1]}-{clean_data['site_info']['valid-time'][2]}-{clean_data['site_info']['valid-time'][0]}-{clean_data['site_info']['valid-time'][3]}Z\"\n    \n    spy.build_sounding(clean_data, dark_mode=dark_mode, color_blind=color_blind, save=True)\n\n    return anvil.media.from_file('sounderpy_sounding.png', 'image/jpeg'), label_txt",
      "metadata": {
        "source_hash": "15b90a83",
        "execution_start": 1704857540035,
        "execution_millis": 8,
        "deepnote_to_be_reexecuted": false,
        "cell_id": "99eee63f87dd4339a02a262225747eba",
        "deepnote_cell_type": "code"
      },
      "outputs": [],
      "execution_count": 5,
      "block_group": "5f92b5d55a2b43abbf370bc6fe482c0f"
    },
    {
      "cell_type": "code",
      "source": "",
      "metadata": {
        "source_hash": null,
        "deepnote_to_be_reexecuted": true,
        "cell_id": "fa39669495e34709b88dd6d0a3270a34",
        "deepnote_cell_type": "code"
      },
      "outputs": [],
      "execution_count": null,
      "block_group": "752b77b3a9024c6ba91d4b40db1ce572"
    },
    {
      "cell_type": "markdown",
      "source": "<a style='text-decoration:none;line-height:16px;display:flex;color:#5B5B62;padding:10px;justify-content:end;' href='https://deepnote.com?utm_source=created-in-deepnote-cell&projectId=42b1d33d-86dc-40c7-ba9a-abfafc2028bc' target=\"_blank\">\n<img alt='Created in deepnote.com' style='display:inline;max-height:16px;margin:0px;margin-right:7.5px;' src='data:image/svg+xml;base64,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' > </img>\nCreated in <span style='font-weight:600;margin-left:4px;'>Deepnote</span></a>",
      "metadata": {
        "created_in_deepnote_cell": true,
        "deepnote_cell_type": "markdown"
      }
    }
  ],
  "nbformat": 4,
  "nbformat_minor": 0,
  "metadata": {
    "deepnote_persisted_session": {
      "createdAt": "2024-01-10T03:30:24.108Z"
    },
    "deepnote_notebook_id": "ab31ccc760f5498b8821cc9dc7797f98",
    "deepnote_execution_queue": []
  }
}