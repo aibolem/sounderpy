{
  "nbformat": 4,
  "nbformat_minor": 0,
  "metadata": {
    "colab": {
      "provenance": [],
      "authorship_tag": "ABX9TyNP7yZW4VM8u75Wvb2vWzMv",
      "include_colab_link": true
    },
    "kernelspec": {
      "name": "python3",
      "display_name": "Python 3"
    },
    "language_info": {
      "name": "python"
    }
  },
  "cells": [
    {
      "cell_type": "markdown",
      "metadata": {
        "id": "view-in-github",
        "colab_type": "text"
      },
      "source": [
        "<a href=\"https://colab.research.google.com/github/kylejgillett/sounderpy/blob/main/FIELD_CAMPAIGN_SOUNDING_PLOTTER.ipynb\" target=\"_parent\"><img src=\"https://colab.research.google.com/assets/colab-badge.svg\" alt=\"Open In Colab\"/></a>"
      ]
    },
    {
      "cell_type": "markdown",
      "source": [
        "# FIELD CAMPAIGN SOUNDING VIEWER\n",
        "### POWERED BY SOUNDERPY\n",
        "\n",
        "- *Questions? Contact Kyle Gillett (@wxkylegillett, kyle.gillett@und.edu)*\n",
        "- *SounderPy Documentation: https://kylejgillett.github.io/sounderpy/*\n",
        "- *Real-time Sounding Analysis Webapp: https://sounderpysoundings.anvil.app/*\n",
        "- *What is 'Google Colabs'? https://research.google.com/colaboratory/faq.html*"
      ],
      "metadata": {
        "id": "dWmIIHSDugAS"
      }
    },
    {
      "cell_type": "code",
      "execution_count": null,
      "metadata": {
        "collapsed": true,
        "id": "F0-4rQGCt5Hw"
      },
      "outputs": [],
      "source": [
        "# PART 1a: INSTALL PACKAGES ONTO VIRTUAL MACHINE (must be done on start up, and may take a moment)\n",
        "# PART 1b: ON THE LEFT, CLICK THE FILE-FOLDER ICON, CLICK ON THE FILE-UPLOAD ICON, UPLOAD A **SHARPPY** DATA TXT FILE\n",
        "\n",
        "!pip install sounderpy\n",
        "!pip install metpy"
      ]
    },
    {
      "cell_type": "code",
      "source": [
        "# PART 2: IMPORT REQUIRED PACKAGES\n",
        "\n",
        "import sounderpy as spy\n",
        "import numpy as np\n",
        "import pandas as pd\n",
        "from metpy.units import units\n",
        "import metpy.calc as mpcalc"
      ],
      "metadata": {
        "id": "rDiOC0auvU8v"
      },
      "execution_count": null,
      "outputs": []
    },
    {
      "cell_type": "code",
      "source": [
        "# PART 3: IMPORT AND PARSE THE ***SHARPPY*** DATA TXT FILE\n",
        "\n",
        "# load data with pandas, be sure to change the name of the file below\n",
        "raw_data = pd.read_csv('your-sharppy-file.txt', skiprows=7, header=None)\n",
        "\n",
        "# drop the last row of SHARPPY %END% vals\n",
        "raw_data = raw_data.drop(raw_data.index[-1])\n",
        "\n",
        "# show raw data\n",
        "raw_data"
      ],
      "metadata": {
        "id": "_wdQE5Envsu4"
      },
      "execution_count": null,
      "outputs": []
    },
    {
      "cell_type": "code",
      "source": [
        "# PART 4: BUILD SOUNDERPY DICTIONARY WITH YOUR DATA (format MUST be maintained)\n",
        "\n",
        "# fill in the variables below\n",
        "campaign_name  = 'SOME FANCY NAME FOR MY CAMPAIGN'\n",
        "valid_date     = '20130531' #YYYYMMDD\n",
        "valid_time     = '1845' #HHMM\n",
        "site_name      = 'EL RENO, OK'\n",
        "site_elevation = 352 #in meters, (easily found on Google if not known)\n",
        "site_latlon    = [41.478,-95.337]\n",
        "\n",
        "\n",
        "# this adds raw_data to a sounderpy dict\n",
        "clean_data = {}\n",
        "\n",
        "clean_data['p']  = np.char.strip(np.array(raw_data[0][0::4].to_list())).astype(float)*units.hPa\n",
        "clean_data['z']  = np.array(raw_data[1][0::4])*units.m\n",
        "clean_data['T']  = np.array(raw_data[2][0::4])*units.degC\n",
        "clean_data['Td'] = np.array(raw_data[3][0::4])*units.degC\n",
        "clean_data['u'], clean_data['v'] = mpcalc.wind_components(np.array(raw_data[5][0::4])*units('kts'),\n",
        "                                                          np.array(raw_data[4][0::4])*units.deg)\n",
        "clean_data['site_info'] = {\n",
        "            'site-id'   : '   ',                                      # could be a station, site, launch ID, or blank\n",
        "            'site-name' : site_name,                                  # a site, station, launch or campaign name\n",
        "            'site-lctn' : 'none',                                     # could be another name, or none\n",
        "            'site-latlon' : site_latlon,                              # launch lat/lon\n",
        "            'site-elv'  : site_elevation,                             # the profile's elevation\n",
        "            'source'    : campaign_name,                              # the 'source' which will be the main title component of the plot\n",
        "            'model'     : 'none',                                     # model name if a model was involved\n",
        "            'fcst-hour' : f'none',                                    # forecast hour if a model was involved\n",
        "            'run-time'  : ['none', 'none', 'none', 'none'],           # model run date if a model was involved\n",
        "            'valid-time': [valid_date[0:4], valid_date[4:6], valid_date[6:8], valid_time]}                  # the profile's valid date/time.\n"
      ],
      "metadata": {
        "id": "YyqOJYLKw9oR"
      },
      "execution_count": null,
      "outputs": []
    },
    {
      "cell_type": "code",
      "source": [
        "# STEP 5: BUILD THE SOUNDING\n",
        "\n",
        "# optional - set a custom SM based on radar, etc\n",
        "# recall that Bunkers SM requires 6000m of data to find a Bunkers SM\n",
        "# you may leave this as 'right_moving', or set [direction, speed]\n",
        "storm_motion = 'right_moving'\n",
        "#storm_motion = [230, 40]\n",
        "\n",
        "spy.build_sounding(clean_data, dark_mode=False, color_blind=True,\n",
        "                   special_parcels='none', storm_motion=storm_motion)"
      ],
      "metadata": {
        "id": "I9LQO7iUzYRL"
      },
      "execution_count": null,
      "outputs": []
    }
  ]
}